{
 "cells": [
  {
   "cell_type": "code",
   "execution_count": 9,
   "id": "atomic-chair",
   "metadata": {},
   "outputs": [],
   "source": [
    "from jupyterworkflow.data import get_fremont_data\n",
    "import pandas as pd\n",
    "\n",
    "def test_fremont_data():\n",
    "    assert all(data.columns ==['Total', 'East', 'West']) #this is to make sure the columns are right\n",
    "    assert isinstance(data.index, pd.DatetimeIndex)"
   ]
  },
  {
   "cell_type": "code",
   "execution_count": 2,
   "id": "suitable-force",
   "metadata": {},
   "outputs": [],
   "source": [
    "data = get_fremont_data()"
   ]
  },
  {
   "cell_type": "markdown",
   "id": "federal-relations",
   "metadata": {},
   "source": [
    "### Refactoring for Speed 7/10"
   ]
  },
  {
   "cell_type": "code",
   "execution_count": 20,
   "id": "martial-harrison",
   "metadata": {},
   "outputs": [],
   "source": [
    "data= pd.read_csv('fremont.csv', index_col = 'Date')\n",
    "\n",
    "try:\n",
    "    data.index=pd.to_datetime(data.index, format='%m/%d/%Y %H:%M:%S %p') # check it here: https://strftime.org/\n",
    "except TypeError:\n",
    "    data.index=pd.to_datetime(data.index)"
   ]
  },
  {
   "cell_type": "code",
   "execution_count": 18,
   "id": "educated-genius",
   "metadata": {},
   "outputs": [
    {
     "data": {
      "text/plain": [
       "Index(['11/01/2019 12:00:00 AM', '11/01/2019 01:00:00 AM',\n",
       "       '11/01/2019 02:00:00 AM', '11/01/2019 03:00:00 AM',\n",
       "       '11/01/2019 04:00:00 AM', '11/01/2019 05:00:00 AM',\n",
       "       '11/01/2019 06:00:00 AM', '11/01/2019 07:00:00 AM',\n",
       "       '11/01/2019 08:00:00 AM', '11/01/2019 09:00:00 AM',\n",
       "       ...\n",
       "       '12/31/2020 02:00:00 PM', '12/31/2020 03:00:00 PM',\n",
       "       '12/31/2020 04:00:00 PM', '12/31/2020 05:00:00 PM',\n",
       "       '12/31/2020 06:00:00 PM', '12/31/2020 07:00:00 PM',\n",
       "       '12/31/2020 08:00:00 PM', '12/31/2020 09:00:00 PM',\n",
       "       '12/31/2020 10:00:00 PM', '12/31/2020 11:00:00 PM'],\n",
       "      dtype='object', name='Date', length=138542)"
      ]
     },
     "execution_count": 18,
     "metadata": {},
     "output_type": "execute_result"
    }
   ],
   "source": [
    "data.index"
   ]
  },
  {
   "cell_type": "code",
   "execution_count": null,
   "id": "ideal-strength",
   "metadata": {},
   "outputs": [],
   "source": [
    "data.columns = ['Total', 'East', 'West']"
   ]
  },
  {
   "cell_type": "code",
   "execution_count": 12,
   "id": "interstate-johnson",
   "metadata": {},
   "outputs": [],
   "source": [
    "def test_fremont_data():\n",
    "    assert all(data.columns ==['Total', 'East', 'West']) #this is to make sure the columns are right\n",
    "    assert isinstance(data.index, pd.DatetimeIndex)"
   ]
  },
  {
   "cell_type": "code",
   "execution_count": 14,
   "id": "amber-grove",
   "metadata": {},
   "outputs": [],
   "source": [
    "test_fremont_data()"
   ]
  },
  {
   "cell_type": "code",
   "execution_count": null,
   "id": "boolean-distinction",
   "metadata": {},
   "outputs": [],
   "source": []
  }
 ],
 "metadata": {
  "kernelspec": {
   "display_name": "Python 3",
   "language": "python",
   "name": "python3"
  },
  "language_info": {
   "codemirror_mode": {
    "name": "ipython",
    "version": 3
   },
   "file_extension": ".py",
   "mimetype": "text/x-python",
   "name": "python",
   "nbconvert_exporter": "python",
   "pygments_lexer": "ipython3",
   "version": "3.7.9"
  }
 },
 "nbformat": 4,
 "nbformat_minor": 5
}
