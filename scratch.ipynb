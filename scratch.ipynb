{
 "cells": [
  {
   "cell_type": "code",
   "execution_count": 9,
   "id": "major-rating",
   "metadata": {},
   "outputs": [],
   "source": [
    "from jupyterworkflow.data import get_fremont_data\n",
    "import pandas as pd\n",
    "\n",
    "def test_fremont_data():\n",
    "    assert all(data.columns ==['Total', 'East', 'West']) #this is to make sure the columns are right\n",
    "    assert isinstance(data.index, pd.DatetimeIndex)"
   ]
  },
  {
   "cell_type": "code",
   "execution_count": 2,
   "id": "burning-essay",
   "metadata": {},
   "outputs": [],
   "source": [
    "data = get_fremont_data()"
   ]
  },
  {
   "cell_type": "code",
   "execution_count": 5,
   "id": "sufficient-mileage",
   "metadata": {},
   "outputs": [
    {
     "data": {
      "text/html": [
       "<div>\n",
       "<style scoped>\n",
       "    .dataframe tbody tr th:only-of-type {\n",
       "        vertical-align: middle;\n",
       "    }\n",
       "\n",
       "    .dataframe tbody tr th {\n",
       "        vertical-align: top;\n",
       "    }\n",
       "\n",
       "    .dataframe thead th {\n",
       "        text-align: right;\n",
       "    }\n",
       "</style>\n",
       "<table border=\"1\" class=\"dataframe\">\n",
       "  <thead>\n",
       "    <tr style=\"text-align: right;\">\n",
       "      <th></th>\n",
       "      <th>Total</th>\n",
       "      <th>East</th>\n",
       "      <th>West</th>\n",
       "    </tr>\n",
       "    <tr>\n",
       "      <th>Date</th>\n",
       "      <th></th>\n",
       "      <th></th>\n",
       "      <th></th>\n",
       "    </tr>\n",
       "  </thead>\n",
       "  <tbody>\n",
       "    <tr>\n",
       "      <th>2019-11-01 00:00:00</th>\n",
       "      <td>12.0</td>\n",
       "      <td>7.0</td>\n",
       "      <td>5.0</td>\n",
       "    </tr>\n",
       "    <tr>\n",
       "      <th>2019-11-01 01:00:00</th>\n",
       "      <td>7.0</td>\n",
       "      <td>0.0</td>\n",
       "      <td>7.0</td>\n",
       "    </tr>\n",
       "    <tr>\n",
       "      <th>2019-11-01 02:00:00</th>\n",
       "      <td>1.0</td>\n",
       "      <td>0.0</td>\n",
       "      <td>1.0</td>\n",
       "    </tr>\n",
       "    <tr>\n",
       "      <th>2019-11-01 03:00:00</th>\n",
       "      <td>6.0</td>\n",
       "      <td>6.0</td>\n",
       "      <td>0.0</td>\n",
       "    </tr>\n",
       "    <tr>\n",
       "      <th>2019-11-01 04:00:00</th>\n",
       "      <td>6.0</td>\n",
       "      <td>5.0</td>\n",
       "      <td>1.0</td>\n",
       "    </tr>\n",
       "  </tbody>\n",
       "</table>\n",
       "</div>"
      ],
      "text/plain": [
       "                     Total  East  West\n",
       "Date                                  \n",
       "2019-11-01 00:00:00   12.0   7.0   5.0\n",
       "2019-11-01 01:00:00    7.0   0.0   7.0\n",
       "2019-11-01 02:00:00    1.0   0.0   1.0\n",
       "2019-11-01 03:00:00    6.0   6.0   0.0\n",
       "2019-11-01 04:00:00    6.0   5.0   1.0"
      ]
     },
     "execution_count": 5,
     "metadata": {},
     "output_type": "execute_result"
    }
   ],
   "source": [
    "data.head(5)"
   ]
  },
  {
   "cell_type": "code",
   "execution_count": 12,
   "id": "charged-design",
   "metadata": {},
   "outputs": [],
   "source": [
    "def test_fremont_data():\n",
    "    assert all(data.columns ==['Total', 'East', 'West']) #this is to make sure the columns are right\n",
    "    assert isinstance(data.index, pd.DatetimeIndex)"
   ]
  },
  {
   "cell_type": "code",
   "execution_count": 14,
   "id": "through-thong",
   "metadata": {},
   "outputs": [],
   "source": [
    "test_fremont_data()"
   ]
  },
  {
   "cell_type": "code",
   "execution_count": null,
   "id": "sealed-volume",
   "metadata": {},
   "outputs": [],
   "source": []
  }
 ],
 "metadata": {
  "kernelspec": {
   "display_name": "Python 3",
   "language": "python",
   "name": "python3"
  },
  "language_info": {
   "codemirror_mode": {
    "name": "ipython",
    "version": 3
   },
   "file_extension": ".py",
   "mimetype": "text/x-python",
   "name": "python",
   "nbconvert_exporter": "python",
   "pygments_lexer": "ipython3",
   "version": "3.7.9"
  }
 },
 "nbformat": 4,
 "nbformat_minor": 5
}
